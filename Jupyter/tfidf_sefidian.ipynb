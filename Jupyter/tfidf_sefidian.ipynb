{
 "cells": [
  {
   "cell_type": "code",
   "execution_count": 1,
   "id": "initial_id",
   "metadata": {
    "collapsed": true,
    "ExecuteTime": {
     "end_time": "2024-02-25T20:28:11.171881800Z",
     "start_time": "2024-02-25T20:28:10.954533100Z"
    }
   },
   "outputs": [],
   "source": [
    "import pandas as pd\n",
    "import numpy as np"
   ]
  },
  {
   "cell_type": "code",
   "execution_count": 2,
   "outputs": [],
   "source": [
    "corpus = ['data science is one of the most important fields of science',\n",
    "          'this is one of the best data science courses',\n",
    "          'data scientists analyze data']"
   ],
   "metadata": {
    "collapsed": false,
    "ExecuteTime": {
     "end_time": "2024-02-25T20:28:11.172886Z",
     "start_time": "2024-02-25T20:28:11.170387900Z"
    }
   },
   "id": "e8b33e7e544708b7"
  },
  {
   "cell_type": "code",
   "execution_count": 3,
   "outputs": [
    {
     "name": "stdout",
     "output_type": "stream",
     "text": [
      "0\tdoc: data science is one of the most important fields of science \n",
      " \twords: ['data', 'science', 'is', 'one', 'of', 'the', 'most', 'important', 'fields', 'of', 'science']\n",
      "1\tdoc: this is one of the best data science courses \n",
      " \twords: ['this', 'is', 'one', 'of', 'the', 'best', 'data', 'science', 'courses']\n",
      "2\tdoc: data scientists analyze data \n",
      " \twords: ['data', 'scientists', 'analyze', 'data']\n",
      "Number of words in the corpus: 14\n",
      "The words in the corpus: \n",
      " {'most', 'best', 'courses', 'the', 'data', 'important', 'of', 'analyze', 'science', 'this', 'scientists', 'fields', 'is', 'one'}\n"
     ]
    }
   ],
   "source": [
    "words_set = set()\n",
    "\n",
    "for i, doc in enumerate(corpus):\n",
    "    words = doc.split(' ')\n",
    "    print(f\"{i}\\tdoc: {doc} \\n \\twords: {words}\")\n",
    "    words_set = words_set.union(set(words))\n",
    "    \n",
    "\n",
    "print('Number of words in the corpus:',len(words_set))\n",
    "print('The words in the corpus: \\n', words_set)"
   ],
   "metadata": {
    "collapsed": false,
    "ExecuteTime": {
     "end_time": "2024-02-25T20:28:11.184275800Z",
     "start_time": "2024-02-25T20:28:11.173885400Z"
    }
   },
   "id": "d9d12ee0e624bbfb"
  },
  {
   "cell_type": "code",
   "execution_count": 4,
   "outputs": [
    {
     "name": "stderr",
     "output_type": "stream",
     "text": [
      "C:\\Users\\alexx\\AppData\\Local\\Temp\\ipykernel_29824\\2786400416.py:10: FutureWarning: ChainedAssignmentError: behaviour will change in pandas 3.0!\n",
      "You are setting values through chained assignment. Currently this works in certain cases, but when using Copy-on-Write (which will become the default behaviour in pandas 3.0) this will never work to update the original DataFrame or Series, because the intermediate object on which we are setting values will behave as a copy.\n",
      "A typical example is when you are setting values in a column of a DataFrame, like:\n",
      "\n",
      "df[\"col\"][row_indexer] = value\n",
      "\n",
      "Use `df.loc[row_indexer, \"col\"] = values` instead, to perform the assignment in a single step and ensure this keeps updating the original `df`.\n",
      "\n",
      "See the caveats in the documentation: https://pandas.pydata.org/pandas-docs/stable/user_guide/indexing.html#returning-a-view-versus-a-copy\n",
      "\n",
      "  df_tf[w][i] = df_tf[w][i] + (1 / len(words))\n"
     ]
    },
    {
     "data": {
      "text/plain": "       most      best   courses       the      data  important        of  \\\n0  0.090909  0.000000  0.000000  0.090909  0.090909   0.090909  0.181818   \n1  0.000000  0.111111  0.111111  0.111111  0.111111   0.000000  0.111111   \n2  0.000000  0.000000  0.000000  0.000000  0.500000   0.000000  0.000000   \n\n   analyze   science      this  scientists    fields        is       one  \n0     0.00  0.181818  0.000000        0.00  0.090909  0.090909  0.090909  \n1     0.00  0.111111  0.111111        0.00  0.000000  0.111111  0.111111  \n2     0.25  0.000000  0.000000        0.25  0.000000  0.000000  0.000000  ",
      "text/html": "<div>\n<style scoped>\n    .dataframe tbody tr th:only-of-type {\n        vertical-align: middle;\n    }\n\n    .dataframe tbody tr th {\n        vertical-align: top;\n    }\n\n    .dataframe thead th {\n        text-align: right;\n    }\n</style>\n<table border=\"1\" class=\"dataframe\">\n  <thead>\n    <tr style=\"text-align: right;\">\n      <th></th>\n      <th>most</th>\n      <th>best</th>\n      <th>courses</th>\n      <th>the</th>\n      <th>data</th>\n      <th>important</th>\n      <th>of</th>\n      <th>analyze</th>\n      <th>science</th>\n      <th>this</th>\n      <th>scientists</th>\n      <th>fields</th>\n      <th>is</th>\n      <th>one</th>\n    </tr>\n  </thead>\n  <tbody>\n    <tr>\n      <th>0</th>\n      <td>0.090909</td>\n      <td>0.000000</td>\n      <td>0.000000</td>\n      <td>0.090909</td>\n      <td>0.090909</td>\n      <td>0.090909</td>\n      <td>0.181818</td>\n      <td>0.00</td>\n      <td>0.181818</td>\n      <td>0.000000</td>\n      <td>0.00</td>\n      <td>0.090909</td>\n      <td>0.090909</td>\n      <td>0.090909</td>\n    </tr>\n    <tr>\n      <th>1</th>\n      <td>0.000000</td>\n      <td>0.111111</td>\n      <td>0.111111</td>\n      <td>0.111111</td>\n      <td>0.111111</td>\n      <td>0.000000</td>\n      <td>0.111111</td>\n      <td>0.00</td>\n      <td>0.111111</td>\n      <td>0.111111</td>\n      <td>0.00</td>\n      <td>0.000000</td>\n      <td>0.111111</td>\n      <td>0.111111</td>\n    </tr>\n    <tr>\n      <th>2</th>\n      <td>0.000000</td>\n      <td>0.000000</td>\n      <td>0.000000</td>\n      <td>0.000000</td>\n      <td>0.500000</td>\n      <td>0.000000</td>\n      <td>0.000000</td>\n      <td>0.25</td>\n      <td>0.000000</td>\n      <td>0.000000</td>\n      <td>0.25</td>\n      <td>0.000000</td>\n      <td>0.000000</td>\n      <td>0.000000</td>\n    </tr>\n  </tbody>\n</table>\n</div>"
     },
     "execution_count": 4,
     "metadata": {},
     "output_type": "execute_result"
    }
   ],
   "source": [
    "n_docs = len(corpus)         #·Number of documents in the corpus\n",
    "n_words_set = len(words_set) #·Number of unique words in the\n",
    " \n",
    "df_tf = pd.DataFrame(np.zeros((n_docs, n_words_set)), columns=list(words_set))\n",
    "\n",
    "# Compute Term Frequency (TF)\n",
    "for i in range(n_docs):\n",
    "    words = corpus[i].split(' ') # Words in the document\n",
    "    for w in words:\n",
    "        df_tf[w][i] = df_tf[w][i] + (1 / len(words))\n",
    "         \n",
    "df_tf"
   ],
   "metadata": {
    "collapsed": false,
    "ExecuteTime": {
     "end_time": "2024-02-25T20:28:11.210764100Z",
     "start_time": "2024-02-25T20:28:11.185275800Z"
    }
   },
   "id": "cfeeceaa66851e9b"
  },
  {
   "cell_type": "code",
   "execution_count": 5,
   "outputs": [
    {
     "name": "stdout",
     "output_type": "stream",
     "text": [
      "IDF of: \n",
      "           most: 0.47712125471966244\n",
      "           best: 0.47712125471966244\n",
      "        courses: 0.47712125471966244\n",
      "            the: 0.17609125905568124\n",
      "           data:        0.0\n",
      "      important: 0.47712125471966244\n",
      "             of: 0.17609125905568124\n",
      "        analyze: 0.47712125471966244\n",
      "        science: 0.17609125905568124\n",
      "           this: 0.47712125471966244\n",
      "     scientists: 0.47712125471966244\n",
      "         fields: 0.47712125471966244\n",
      "             is: 0.17609125905568124\n",
      "            one: 0.17609125905568124\n"
     ]
    }
   ],
   "source": [
    "print(\"IDF of: \")\n",
    " \n",
    "idf = {}\n",
    " \n",
    "for w in words_set:\n",
    "    k = 0    # number of documents in the corpus that contain this word\n",
    "     \n",
    "    for i in range(n_docs):\n",
    "        if w in corpus[i].split():\n",
    "            k += 1\n",
    "             \n",
    "    idf[w] =  np.log10(n_docs / k)\n",
    "     \n",
    "    print(f'{w:>15}: {idf[w]:>10}' )\n"
   ],
   "metadata": {
    "collapsed": false,
    "ExecuteTime": {
     "end_time": "2024-02-25T20:28:11.210764100Z",
     "start_time": "2024-02-25T20:28:11.200909600Z"
    }
   },
   "id": "ab3de13727115864"
  },
  {
   "cell_type": "code",
   "execution_count": 6,
   "outputs": [
    {
     "name": "stderr",
     "output_type": "stream",
     "text": [
      "C:\\Users\\alexx\\AppData\\Local\\Temp\\ipykernel_29824\\1478546651.py:5: FutureWarning: ChainedAssignmentError: behaviour will change in pandas 3.0!\n",
      "You are setting values through chained assignment. Currently this works in certain cases, but when using Copy-on-Write (which will become the default behaviour in pandas 3.0) this will never work to update the original DataFrame or Series, because the intermediate object on which we are setting values will behave as a copy.\n",
      "A typical example is when you are setting values in a column of a DataFrame, like:\n",
      "\n",
      "df[\"col\"][row_indexer] = value\n",
      "\n",
      "Use `df.loc[row_indexer, \"col\"] = values` instead, to perform the assignment in a single step and ensure this keeps updating the original `df`.\n",
      "\n",
      "See the caveats in the documentation: https://pandas.pydata.org/pandas-docs/stable/user_guide/indexing.html#returning-a-view-versus-a-copy\n",
      "\n",
      "  df_tf_idf[w][i] = df_tf[w][i] * idf[w]\n"
     ]
    },
    {
     "data": {
      "text/plain": "       most      best   courses       the  data  important        of  analyze  \\\n0  0.043375  0.000000  0.000000  0.016008   0.0   0.043375  0.032017  0.00000   \n1  0.000000  0.053013  0.053013  0.019566   0.0   0.000000  0.019566  0.00000   \n2  0.000000  0.000000  0.000000  0.000000   0.0   0.000000  0.000000  0.11928   \n\n    science      this  scientists    fields        is       one  \n0  0.032017  0.000000     0.00000  0.043375  0.016008  0.016008  \n1  0.019566  0.053013     0.00000  0.000000  0.019566  0.019566  \n2  0.000000  0.000000     0.11928  0.000000  0.000000  0.000000  ",
      "text/html": "<div>\n<style scoped>\n    .dataframe tbody tr th:only-of-type {\n        vertical-align: middle;\n    }\n\n    .dataframe tbody tr th {\n        vertical-align: top;\n    }\n\n    .dataframe thead th {\n        text-align: right;\n    }\n</style>\n<table border=\"1\" class=\"dataframe\">\n  <thead>\n    <tr style=\"text-align: right;\">\n      <th></th>\n      <th>most</th>\n      <th>best</th>\n      <th>courses</th>\n      <th>the</th>\n      <th>data</th>\n      <th>important</th>\n      <th>of</th>\n      <th>analyze</th>\n      <th>science</th>\n      <th>this</th>\n      <th>scientists</th>\n      <th>fields</th>\n      <th>is</th>\n      <th>one</th>\n    </tr>\n  </thead>\n  <tbody>\n    <tr>\n      <th>0</th>\n      <td>0.043375</td>\n      <td>0.000000</td>\n      <td>0.000000</td>\n      <td>0.016008</td>\n      <td>0.0</td>\n      <td>0.043375</td>\n      <td>0.032017</td>\n      <td>0.00000</td>\n      <td>0.032017</td>\n      <td>0.000000</td>\n      <td>0.00000</td>\n      <td>0.043375</td>\n      <td>0.016008</td>\n      <td>0.016008</td>\n    </tr>\n    <tr>\n      <th>1</th>\n      <td>0.000000</td>\n      <td>0.053013</td>\n      <td>0.053013</td>\n      <td>0.019566</td>\n      <td>0.0</td>\n      <td>0.000000</td>\n      <td>0.019566</td>\n      <td>0.00000</td>\n      <td>0.019566</td>\n      <td>0.053013</td>\n      <td>0.00000</td>\n      <td>0.000000</td>\n      <td>0.019566</td>\n      <td>0.019566</td>\n    </tr>\n    <tr>\n      <th>2</th>\n      <td>0.000000</td>\n      <td>0.000000</td>\n      <td>0.000000</td>\n      <td>0.000000</td>\n      <td>0.0</td>\n      <td>0.000000</td>\n      <td>0.000000</td>\n      <td>0.11928</td>\n      <td>0.000000</td>\n      <td>0.000000</td>\n      <td>0.11928</td>\n      <td>0.000000</td>\n      <td>0.000000</td>\n      <td>0.000000</td>\n    </tr>\n  </tbody>\n</table>\n</div>"
     },
     "execution_count": 6,
     "metadata": {},
     "output_type": "execute_result"
    }
   ],
   "source": [
    "df_tf_idf = df_tf.copy()\n",
    " \n",
    "for w in words_set:\n",
    "    for i in range(n_docs):\n",
    "        df_tf_idf[w][i] = df_tf[w][i] * idf[w]\n",
    "         \n",
    "df_tf_idf"
   ],
   "metadata": {
    "collapsed": false,
    "ExecuteTime": {
     "end_time": "2024-02-25T20:28:11.219316200Z",
     "start_time": "2024-02-25T20:28:11.203647Z"
    }
   },
   "id": "3defaedf7c4a18a4"
  }
 ],
 "metadata": {
  "kernelspec": {
   "display_name": "Python 3",
   "language": "python",
   "name": "python3"
  },
  "language_info": {
   "codemirror_mode": {
    "name": "ipython",
    "version": 2
   },
   "file_extension": ".py",
   "mimetype": "text/x-python",
   "name": "python",
   "nbconvert_exporter": "python",
   "pygments_lexer": "ipython2",
   "version": "2.7.6"
  }
 },
 "nbformat": 4,
 "nbformat_minor": 5
}
